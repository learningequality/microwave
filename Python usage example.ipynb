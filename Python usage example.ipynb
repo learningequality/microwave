{
 "cells": [
  {
   "cell_type": "code",
   "execution_count": 16,
   "metadata": {},
   "outputs": [],
   "source": [
    "import requests\n",
    "\n",
    "# helper\n",
    "def save_response_content(response, filename):\n",
    "    with open(filename, 'wb') as localfile:\n",
    "        localfile.write(response.content)\n",
    "\n",
    "# go GET a sample.docx\n",
    "docx_url = 'https://calibre-ebook.com/downloads/demos/demo.docx'\n",
    "response1 = requests.get(docx_url)\n",
    "save_response_content(response1, 'sample.docx')\n",
    "\n",
    "# convert it\n",
    "microwave_url = 'http://35.185.105.222:8989/unoconv/pdf'\n",
    "files = {'file': open('sample.docx', 'rb')}\n",
    "response = requests.post(microwave_url, files=files)\n",
    "save_response_content(response, 'sample.pdf')"
   ]
  },
  {
   "cell_type": "code",
   "execution_count": 17,
   "metadata": {},
   "outputs": [
    {
     "name": "stdout",
     "output_type": "stream",
     "text": [
      "total 2800\r\n",
      "-rw-r--r--  1 ivan  staff       87 29 Nov 16:56 docker.env\r\n",
      "-rw-r--r--  1 ivan  staff     1369 29 Nov 16:58 README.md\r\n",
      "-rw-r--r--  1 ivan  staff     2391 29 Nov 17:00 Python usage example.ipynb\r\n",
      "-rw-r--r--  1 ivan  staff  1311881 29 Nov 17:01 sample.docx\r\n",
      "-rw-r--r--@ 1 ivan  staff   103747 29 Nov 17:01 sample.pdf\r\n"
     ]
    }
   ],
   "source": [
    "!ls -ltr"
   ]
  },
  {
   "cell_type": "code",
   "execution_count": null,
   "metadata": {
    "collapsed": true
   },
   "outputs": [],
   "source": []
  }
 ],
 "metadata": {
  "kernelspec": {
   "display_name": "Python 3",
   "language": "python",
   "name": "python3"
  },
  "language_info": {
   "codemirror_mode": {
    "name": "ipython",
    "version": 3
   },
   "file_extension": ".py",
   "mimetype": "text/x-python",
   "name": "python",
   "nbconvert_exporter": "python",
   "pygments_lexer": "ipython3",
   "version": "3.6.2"
  }
 },
 "nbformat": 4,
 "nbformat_minor": 2
}
